{
  "nbformat": 4,
  "nbformat_minor": 0,
  "metadata": {
    "colab": {
      "provenance": []
    },
    "kernelspec": {
      "name": "python3",
      "display_name": "Python 3"
    },
    "language_info": {
      "name": "python"
    }
  },
  "cells": [
    {
      "cell_type": "code",
      "execution_count": null,
      "metadata": {
        "id": "H7mALtP6yXwE"
      },
      "outputs": [],
      "source": [
        "a = int(input(\"Digite o Primeiro Número: \"))\n",
        "b = int(input(\"Digite o Segundo Número: \"))\n",
        "c = int(input(\"Digite o Terceiro Número: \"))\n",
        "if a > b  and  a > c:\n",
        " print(\"Número Maior\", a)\n",
        "elif b > a  and  b > c:\n",
        " print(\"Número Maior\", b)\n",
        "else:\n",
        " print(\"Número Maior\", c)"
      ]
    },
    {
      "cell_type": "code",
      "source": [
        "a = int(input(\"Digite o Primeiro Número: \"))\n",
        "b = int(input(\"Digite o Segundo Número: \"))\n",
        "c = int(input(\"Digite o Terceiro Número: \"))\n",
        "if a > b and a > c:\n",
        " maior = a\n",
        "elif b > a and b > c:\n",
        " maior = b\n",
        "elif c > b and c > a:\n",
        " maior = c\n",
        "else:\n",
        " print(\"Número Maior\", a,b,c)\n",
        "if a < b and a < c:\n",
        " menor = a\n",
        "elif b < a and b < c:\n",
        " menor = b\n",
        "elif c < a and c < b:\n",
        " menor = c\n",
        "else:\n",
        " print(\"Número Menor\", a,b,c)"
      ],
      "metadata": {
        "id": "PcGYcBImyhwd"
      },
      "execution_count": null,
      "outputs": []
    },
    {
      "cell_type": "code",
      "source": [
        "a = float(input(\"Digite o preço do primeiro produto: \"))\n",
        "b = float(input(\"Digite o preço do segundo produto: \"))\n",
        "c = float(input(\"Digite o preço do terceiro produto: \"))\n",
        "if a < b and a < c:\n",
        " print(\"Você deve comprar o primeiro produto\")\n",
        "elif b < a and b < c:\n",
        " print(\"Você deve comprar o segundo produto.\")\n",
        "else:\n",
        " print(\"Você deve comprar o terceiro produto.\")"
      ],
      "metadata": {
        "id": "brz9fBUvyijz"
      },
      "execution_count": null,
      "outputs": []
    },
    {
      "cell_type": "code",
      "source": [
        "a = int(input(\"Digite o primeiro número: \"))\n",
        "b = int(input(\"Digite o segundo número: \"))\n",
        "c = int(input(\"Digite o terceiro número: \"))\n",
        "if a > b and b > c:\n",
        " print(\"Os números em ordem decrescente\", a, b, c)\n",
        "elif a > c and c > b:\n",
        " print(\"Os números em ordem decrescente\", a, c, b)\n",
        "elif b > a and a > c:\n",
        " print(\"Os números em ordem decrescente\", b, a, c)\n",
        "elif b > c and c > a:\n",
        " print(\"Os números em ordem decrescente\", b, c, a)\n",
        "elif c > a and a > b:\n",
        "  print(\"Os números em ordem decrescente\", c, a, b)\n",
        "else:\n",
        "  print(\"Os números em ordem decrescente\", c, b, a)"
      ],
      "metadata": {
        "id": "hCh4B6BRzBlm"
      },
      "execution_count": null,
      "outputs": []
    },
    {
      "cell_type": "code",
      "source": [
        "a = input()\n",
        "if a == 'M' or a == 'm':\n",
        " print(\"Bom dia!\")\n",
        "elif a == 'V' or a == 'v':\n",
        " print(\"Boa tarde!\")\n",
        "elif a == 'N' or a == 'n':\n",
        " print(\"Boa noite!\")\n",
        "else:\n",
        " print(\"Valor inválido\")"
      ],
      "metadata": {
        "id": "tRkxadr4zHQP"
      },
      "execution_count": null,
      "outputs": []
    },
    {
      "cell_type": "code",
      "source": [
        "num1 = int(input(\"Insira o Primeiro Número: \"))\n",
        "num2 = int(input(\"Insira o Segundo Número: \"))\n",
        "if num1 > num2:\n",
        " print(\"O maior número é\", num1)\n",
        " print(\"O menor número é\", num2)\n",
        "elif num2 >= num1:\n",
        " print(\"O maior número é\", num2)\n",
        " print(\"O menor número é\", num1)"
      ],
      "metadata": {
        "id": "l_7QSXU2zICl"
      },
      "execution_count": null,
      "outputs": []
    },
    {
      "cell_type": "code",
      "source": [
        "dia = int(input(\"Digite um Número até 7: \"))\n",
        "if dia == 1:\n",
        " print(\"Domingo\")\n",
        "elif dia == 2:\n",
        " print(\"Segunda-feira\")\n",
        "elif dia == 3:\n",
        " print(\"Terça-feira\")\n",
        "elif dia == 4:\n",
        " print(\"Quarta-feira\")\n",
        "elif dia == 5:\n",
        " print(\"Quinta-feira\")\n",
        "elif dia == 6:\n",
        " print(\"Sexta-feira\")\n",
        "elif dia == 7:\n",
        " print(\"Sábado\")\n",
        "else:\n",
        " print(\"Número Inválido\")"
      ],
      "metadata": {
        "id": "tNJeAEqSzJ5b"
      },
      "execution_count": null,
      "outputs": []
    },
    {
      "cell_type": "code",
      "source": [
        "numero = int(input(\"Digite um Número: \"))\n",
        "if numero > 0:\n",
        " print(\"Número Positivo\")\n",
        "elif numero < 0:\n",
        " print(\"Número Negativo\")\n",
        "else:\n",
        " print(\"Número Igual\")"
      ],
      "metadata": {
        "id": "QDzGxoDRzQmn"
      },
      "execution_count": null,
      "outputs": []
    },
    {
      "cell_type": "code",
      "source": [
        "letra = input(\"Digite Seu Sexo: \")\n",
        "if letra == \"m\" or letra == \"M\":\n",
        " print (\"Sexo Masculino\")\n",
        "elif letra == \"f\" or letra == \"F\":\n",
        " print(\"Sexo Feminino\")\n",
        "else:\n",
        " print(\"Sexo Inválido\")"
      ],
      "metadata": {
        "id": "_bItNPZMzTMq"
      },
      "execution_count": null,
      "outputs": []
    },
    {
      "cell_type": "code",
      "source": [
        "letra = input(\"Digite Uma Letra: \")\n",
        "if letra == \"a\" or letra == \"A\":\n",
        " print(\"É uma Vogal\")\n",
        "elif letra == \"e\" or letra == \"E\":\n",
        " print(\"É uma Vogal\")\n",
        "elif letra == \"i\" or letra == \"I\":\n",
        " print(\"É uma Vogal\")\n",
        "elif letra == \"o\" or letra == \"O\":\n",
        " print(\"É uma Vogal\")\n",
        "elif letra == \"u\" or letra == \"U\":\n",
        " print(\"É uma Vogal\")\n",
        "else:\n",
        " print(\"Não é Uma Vogal\")"
      ],
      "metadata": {
        "id": "rMI4Ebu-zUri"
      },
      "execution_count": null,
      "outputs": []
    },
    {
      "cell_type": "code",
      "source": [
        "parcial1 = float(input (\"Digite a Primeira Parcial: \"))\n",
        "parcial2 = float(input (\"Digite a Segunda Parcial: \"))\n",
        "media = (parcial1 + parcial2) /2\n",
        "if media == 10:\n",
        " print(\"Aprovado Por Distinção\", media)\n",
        "elif media >= 7:\n",
        " print(\"Aprovado\")\n",
        "else:\n",
        " print(\"Reprovado\")"
      ],
      "metadata": {
        "id": "f2EauwgRzYh0"
      },
      "execution_count": null,
      "outputs": []
    }
  ]
}